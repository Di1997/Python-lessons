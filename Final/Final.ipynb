{
 "cells": [
  {
   "cell_type": "code",
   "execution_count": 12,
   "metadata": {},
   "outputs": [],
   "source": [
    "import pandas as pd\n",
    "import numpy as np"
   ]
  },
  {
   "cell_type": "code",
   "execution_count": 13,
   "metadata": {},
   "outputs": [],
   "source": [
    "df_train = pd.read_csv(\"train.csv\")\n",
    "df_test = pd.read_csv(\"test.csv\")"
   ]
  },
  {
   "cell_type": "code",
   "execution_count": 14,
   "metadata": {},
   "outputs": [],
   "source": [
    "bad_columns = df_train.select_dtypes('object').columns\n",
    "replacement = {\n",
    "    'A': 0,\n",
    "    'B': 1\n",
    "}\n",
    "\n",
    "for i in bad_columns:\n",
    "    df_train[i] = df_train[i].replace(replacement).astype('int32')\n",
    "    df_test[i] = df_test[i].replace(replacement).astype('int32')"
   ]
  },
  {
   "cell_type": "code",
   "execution_count": 15,
   "metadata": {},
   "outputs": [],
   "source": [
    "df_train.loc[df_train['HouseYear'] == 20052011, 'HouseYear'] = 2011\n",
    "df_train.loc[df_train['HouseYear'] > 2020, 'HouseYear'] = 2020\n",
    "df_train.loc[df_train['LifeSquare'] < 10, 'LifeSquare'] = 10\n",
    "\n",
    "# Things that I couldn't think of\n",
    "df_train.loc[df_train['Rooms'].isin([0, 10, 19]), 'Rooms'] = df_train.Rooms.median()\n",
    "df_train.loc[df_train['HouseFloor'] == 0, 'HouseFloor'] = df_train['HouseFloor'].median()\n",
    "df_train.loc[df_train['KitchenSquare'] < 3, 'KitchenSquare'] = np.nan\n",
    "df_train.loc[df_train['KitchenSquare'] > 1000 , 'KitchenSquare'] = np.nan"
   ]
  },
  {
   "cell_type": "code",
   "execution_count": 16,
   "metadata": {},
   "outputs": [],
   "source": [
    "# At this moment I found that GradientBoostingRegressor pretty much wins the idea from models that I could find. I want to see how much can I go from processed data\n",
    "# (Shameless copy+paste, since I didn't manage to understand the basics of improving data)\n",
    "\n",
    "import random\n",
    "\n",
    "train_df = df_train\n",
    "\n",
    "square_med_diff = (train_df.loc[train_df['LifeSquare'].notnull(), 'Square']\n",
    "                   - train_df.loc[train_df['LifeSquare'].notnull(), 'LifeSquare']\n",
    "                   - train_df.loc[train_df['LifeSquare'].notnull(), 'KitchenSquare']).median()\n",
    "\n",
    "train_df.loc[train_df['LifeSquare'].isnull(), 'LifeSquare'] = (\n",
    "    train_df.loc[train_df['LifeSquare'].isnull(), 'Square']\n",
    "    - train_df.loc[train_df['LifeSquare'].isnull(), 'KitchenSquare']\n",
    "    - square_med_diff\n",
    ")\n",
    "\n",
    "df_train = train_df"
   ]
  },
  {
   "cell_type": "code",
   "execution_count": 17,
   "metadata": {},
   "outputs": [],
   "source": [
    "for df in (df_train, df_test):\n",
    "    for column in df.columns:\n",
    "        df_col = df[column]\n",
    "        df[column] = df_col.fillna(df_col.median())\n",
    "\n",
    "    df.set_index('Id')"
   ]
  },
  {
   "cell_type": "code",
   "execution_count": 18,
   "metadata": {},
   "outputs": [],
   "source": [
    "from sklearn import linear_model\n",
    "from sklearn import svm\n",
    "from sklearn import ensemble\n",
    "from sklearn.metrics import r2_score\n",
    "from sklearn.model_selection import train_test_split\n",
    "\n",
    "# Testing all models\n",
    "classifiers = [\n",
    "    #svm.SVR(),\n",
    "    #linear_model.SGDRegressor(),\n",
    "    #linear_model.BayesianRidge(),\n",
    "    #linear_model.LassoLars(),\n",
    "    #linear_model.ARDRegression(),\n",
    "    #linear_model.PassiveAggressiveRegressor(),\n",
    "    #linear_model.TheilSenRegressor(),\n",
    "    #linear_model.LinearRegression(),\n",
    "    ensemble.GradientBoostingRegressor()]"
   ]
  },
  {
   "cell_type": "code",
   "execution_count": 19,
   "metadata": {},
   "outputs": [],
   "source": [
    "x = df_train.loc[:, df_train.columns != 'Price']\n",
    "y = df_train['Price']\n",
    "\n",
    "x_train, x_val, y_train, y_val = train_test_split(x, y, shuffle=True)"
   ]
  },
  {
   "cell_type": "code",
   "execution_count": 20,
   "metadata": {
    "tags": []
   },
   "outputs": [
    {
     "output_type": "stream",
     "name": "stdout",
     "text": "GradientBoostingRegressor()\n0.7404015929160459\n"
    }
   ],
   "source": [
    "gbr = None\n",
    "\n",
    "for item in classifiers:\n",
    "    print(item)\n",
    "    try:\n",
    "        clf = item\n",
    "        clf.fit(x_train, y_train)\n",
    "        pred = clf.predict(x_val)\n",
    "        print(r2_score(y_val, pred))\n",
    "        if isinstance(clf, ensemble.GradientBoostingRegressor):\n",
    "            gbr = clf\n",
    "    except Exception as e:\n",
    "        print(e)"
   ]
  },
  {
   "cell_type": "code",
   "execution_count": 21,
   "metadata": {},
   "outputs": [],
   "source": [
    "# Since all the models failed besides GradientBoostingRegressor, the successor for the task is this one\n",
    "result = clf.predict(df_test)"
   ]
  },
  {
   "cell_type": "code",
   "execution_count": 22,
   "metadata": {},
   "outputs": [],
   "source": [
    "out = pd.DataFrame({\n",
    "    'Id': df_test['Id'],\n",
    "    'Price': result\n",
    "}).set_index('Id')\n",
    "\n",
    "out.to_csv('Final_result.csv')"
   ]
  }
 ],
 "metadata": {
  "kernelspec": {
   "display_name": "Python 3",
   "language": "python",
   "name": "python3"
  },
  "language_info": {
   "codemirror_mode": {
    "name": "ipython",
    "version": 3
   },
   "file_extension": ".py",
   "mimetype": "text/x-python",
   "name": "python",
   "nbconvert_exporter": "python",
   "pygments_lexer": "ipython3",
   "version": "3.8.1-final"
  }
 },
 "nbformat": 4,
 "nbformat_minor": 4
}